{
 "cells": [
  {
   "cell_type": "code",
   "execution_count": 1,
   "id": "aedfaac7",
   "metadata": {},
   "outputs": [],
   "source": [
    "import numpy as np\n",
    "import pandas as pd\n",
    "from matplotlib import pyplot as plt\n",
    "from sklearn import tree\n",
    "from sklearn.model_selection import train_test_split\n",
    "from sklearn import tree\n",
    "from sklearn.metrics import confusion_matrix, accuracy_score"
   ]
  },
  {
   "cell_type": "code",
   "execution_count": 2,
   "id": "fd252518",
   "metadata": {},
   "outputs": [],
   "source": [
    "import statsmodels.api as sm\n",
    "from statsmodels.stats.outliers_influence import variance_inflation_factor"
   ]
  },
  {
   "cell_type": "code",
   "execution_count": 3,
   "id": "72f13502",
   "metadata": {},
   "outputs": [],
   "source": [
    "# If you need to recreate the datase, uncomment the next line%\n",
    "#%run create_dataset.ipynb"
   ]
  },
  {
   "cell_type": "code",
   "execution_count": 4,
   "id": "4dd5d5e2",
   "metadata": {},
   "outputs": [],
   "source": [
    "ds = pd.read_excel('dataset.xlsx', parse_dates=[0], index_col=0)"
   ]
  },
  {
   "cell_type": "code",
   "execution_count": 5,
   "id": "d44743a2",
   "metadata": {},
   "outputs": [],
   "source": [
    "# The last two columns in data set are the real future data to be predicted\n",
    "X = ds.iloc[:,:-2]"
   ]
  },
  {
   "cell_type": "code",
   "execution_count": 6,
   "id": "5deeae5a",
   "metadata": {},
   "outputs": [],
   "source": [
    "# The last column is a category up +1 or down -1\n",
    "y = ds.iloc[:,-1]"
   ]
  },
  {
   "cell_type": "code",
   "execution_count": 7,
   "id": "742bce09",
   "metadata": {},
   "outputs": [],
   "source": [
    "# Split the data into training and testing sets\n",
    "X_train, X_test, y_train, y_test = train_test_split(X, y, test_size=0.2)"
   ]
  },
  {
   "cell_type": "code",
   "execution_count": 8,
   "id": "c11c0acc",
   "metadata": {},
   "outputs": [],
   "source": [
    "clf = tree.DecisionTreeClassifier()\n",
    "#Fit X_train and y_train \n",
    "clf = clf.fit(X_train, y_train)"
   ]
  },
  {
   "cell_type": "code",
   "execution_count": 9,
   "id": "16349f14",
   "metadata": {},
   "outputs": [
    {
     "name": "stdout",
     "output_type": "stream",
     "text": [
      "Full tree guess train/validation  1.0 0.8187385180649112\n"
     ]
    }
   ],
   "source": [
    "print ( 'Full tree guess train/validation ',clf.score(X_train, y_train),clf.score(X_test, y_test))"
   ]
  },
  {
   "cell_type": "code",
   "execution_count": 10,
   "id": "3b795b45",
   "metadata": {},
   "outputs": [
    {
     "data": {
      "text/plain": [
       "25"
      ]
     },
     "execution_count": 10,
     "metadata": {},
     "output_type": "execute_result"
    }
   ],
   "source": [
    "clf.get_depth()"
   ]
  },
  {
   "cell_type": "code",
   "execution_count": 11,
   "id": "fb97e511",
   "metadata": {},
   "outputs": [],
   "source": [
    "bestdepth=-1\n",
    "bestscore=0\n",
    "max_depth = 100"
   ]
  },
  {
   "cell_type": "code",
   "execution_count": 12,
   "id": "a03a8811",
   "metadata": {},
   "outputs": [
    {
     "name": "stdout",
     "output_type": "stream",
     "text": [
      "Depth: 1 Train Score: 0.7531015469444019 Validation Score: 0.7477036129822413\n",
      "Depth: 2 Train Score: 0.7531015469444019 Validation Score: 0.7477036129822413\n",
      "Depth: 3 Train Score: 0.7650482462858018 Validation Score: 0.7507654623392529\n",
      "Depth: 4 Train Score: 0.7760759687547863 Validation Score: 0.7599510104102878\n",
      "Depth: 5 Train Score: 0.7872568540358401 Validation Score: 0.7624004898958971\n",
      "Depth: 6 Train Score: 0.7950681574513708 Validation Score: 0.7642375995101041\n",
      "Depth: 7 Train Score: 0.8094654617858784 Validation Score: 0.7666870789957134\n",
      "Depth: 8 Train Score: 0.8353499770255782 Validation Score: 0.775260257195346\n",
      "Depth: 9 Train Score: 0.8615408178894165 Validation Score: 0.7813839559093693\n",
      "Depth: 10 Train Score: 0.8889569612498085 Validation Score: 0.7862829148805879\n",
      "Depth: 11 Train Score: 0.9134630111808852 Validation Score: 0.8003674219228414\n",
      "Depth: 12 Train Score: 0.9345994792464389 Validation Score: 0.807103490508267\n",
      "Depth: 13 Train Score: 0.9525195282585388 Validation Score: 0.8028169014084507\n",
      "Depth: 14 Train Score: 0.9650788788482156 Validation Score: 0.8101653398652786\n",
      "Depth: 15 Train Score: 0.9751876244447848 Validation Score: 0.8101653398652786\n",
      "Depth: 16 Train Score: 0.9840710675448001 Validation Score: 0.8218003674219229\n",
      "Depth: 17 Train Score: 0.9885127890948078 Validation Score: 0.8169014084507042\n",
      "Depth: 18 Train Score: 0.9911165568999847 Validation Score: 0.8156766687078996\n",
      "Depth: 19 Train Score: 0.9940266503293 Validation Score: 0.8218003674219229\n",
      "Depth: 20 Train Score: 0.9964772553224077 Validation Score: 0.8120024494794856\n",
      "Depth: 21 Train Score: 0.9983152090672385 Validation Score: 0.8187385180649112\n",
      "Depth: 22 Train Score: 0.9989278603155154 Validation Score: 0.8205756276791182\n",
      "Depth: 23 Train Score: 0.9996936743758615 Validation Score: 0.8156766687078996\n",
      "Depth: 24 Train Score: 0.9998468371879308 Validation Score: 0.8156766687078996\n",
      "Depth: 25 Train Score: 1.0 Validation Score: 0.8132271892222903\n",
      "Depth: 26 Train Score: 1.0 Validation Score: 0.8181261481935089\n",
      "Depth: 27 Train Score: 1.0 Validation Score: 0.8181261481935089\n",
      "Depth: 28 Train Score: 1.0 Validation Score: 0.8187385180649112\n",
      "Depth: 29 Train Score: 1.0 Validation Score: 0.8193508879363135\n",
      "Depth: 30 Train Score: 1.0 Validation Score: 0.8120024494794856\n"
     ]
    }
   ],
   "source": [
    "for i in range(30):\n",
    "    clf = tree.DecisionTreeClassifier(max_depth = i+1)\n",
    "    #fit the training sets\n",
    "    clf.fit(X_train, y_train)\n",
    "    #update trainscore\n",
    "    trainscore=clf.score(X_train, y_train)\n",
    "    #update valscore\n",
    "    valscore=clf.score(X_test, y_test)\n",
    "    print( 'Depth:', i+1, 'Train Score:', trainscore, 'Validation Score:', valscore)\n",
    "    if valscore > bestscore   :\n",
    "        #update bestscore\n",
    "        bestscore=valscore\n",
    "        #update depth\n",
    "        bestdepth=i+1\n"
   ]
  },
  {
   "cell_type": "code",
   "execution_count": 13,
   "id": "48c73f17",
   "metadata": {},
   "outputs": [
    {
     "data": {
      "text/plain": [
       "0.8022045315370484"
      ]
     },
     "execution_count": 13,
     "metadata": {},
     "output_type": "execute_result"
    }
   ],
   "source": [
    "clf = tree.DecisionTreeClassifier(max_depth = 13)\n",
    "#fitX_trainval and y_trainval\n",
    "clf.fit(X_train, y_train)\n",
    "clf.score(X_test, y_test)"
   ]
  },
  {
   "cell_type": "code",
   "execution_count": 14,
   "id": "e16e2812",
   "metadata": {},
   "outputs": [
    {
     "name": "stdout",
     "output_type": "stream",
     "text": [
      "[[456 161]\n",
      " [162 854]]\n"
     ]
    }
   ],
   "source": [
    "pred = clf.predict(X_test)\n",
    "print(confusion_matrix(y_test, pred))"
   ]
  },
  {
   "cell_type": "code",
   "execution_count": 15,
   "id": "3f40e360",
   "metadata": {},
   "outputs": [
    {
     "name": "stdout",
     "output_type": "stream",
     "text": [
      "      Feature  Importance\n",
      "19       pr_0    0.359191\n",
      "17     ma20gr    0.057614\n",
      "14       Infl    0.043811\n",
      "0         DFF    0.038392\n",
      "15   BBKMLEIX    0.037263\n",
      "4       ICNSA    0.033659\n",
      "8      PERMIT    0.032792\n",
      "1       DGS10    0.031914\n",
      "5      ACOGNO    0.031443\n",
      "2       T10_3    0.030509\n",
      "18        vix    0.029074\n",
      "11     LiqChg    0.027738\n",
      "9     UMCSENT    0.024543\n",
      "3      UNRATE    0.022866\n",
      "12      M2Chg    0.022306\n",
      "10  BusInvChg    0.021767\n",
      "6    NEWORDER    0.019359\n",
      "28       pr_9    0.018277\n",
      "29      pr_10    0.016589\n",
      "24       pr_5    0.014245\n",
      "16      vol_n    0.012773\n",
      "20       pr_1    0.012726\n",
      "22       pr_3    0.011605\n",
      "7      AWHMAN    0.008954\n",
      "27       pr_8    0.008836\n",
      "26       pr_7    0.008120\n",
      "13    PSAVERT    0.007746\n",
      "25       pr_6    0.006103\n",
      "23       pr_4    0.005006\n",
      "21       pr_2    0.004779\n"
     ]
    }
   ],
   "source": [
    "feature_importances = clf.feature_importances_\n",
    "# Create a DataFrame for better visualization\n",
    "features = X.columns\n",
    "importances = pd.DataFrame({'Feature': features, 'Importance': feature_importances})\n",
    "importances = importances.sort_values(by='Importance', ascending=False)\n",
    "# Print feature importances\n",
    "print(importances)"
   ]
  },
  {
   "cell_type": "code",
   "execution_count": 16,
   "id": "255f4c3c",
   "metadata": {
    "scrolled": false
   },
   "outputs": [],
   "source": [
    "#tree.plot_tree(clf)"
   ]
  },
  {
   "cell_type": "code",
   "execution_count": 17,
   "id": "58cf3219",
   "metadata": {},
   "outputs": [
    {
     "data": {
      "text/plain": [
       "0.9240382259250184"
      ]
     },
     "execution_count": 17,
     "metadata": {},
     "output_type": "execute_result"
    }
   ],
   "source": [
    "clf0 = tree.DecisionTreeClassifier(max_depth = 11)\n",
    "clf0.fit(X, y)\n",
    "clf0.score(X, y)"
   ]
  },
  {
   "cell_type": "code",
   "execution_count": 18,
   "id": "ffcf2b0f",
   "metadata": {},
   "outputs": [
    {
     "name": "stdout",
     "output_type": "stream",
     "text": [
      "[[2554  365]\n",
      " [ 255 4988]]\n"
     ]
    }
   ],
   "source": [
    "predict = clf0.predict(X)\n",
    "print(confusion_matrix(y, predict))"
   ]
  },
  {
   "cell_type": "code",
   "execution_count": 19,
   "id": "03dbf006",
   "metadata": {},
   "outputs": [
    {
     "name": "stdout",
     "output_type": "stream",
     "text": [
      "      Feature  Importance\n",
      "19       pr_0    0.399492\n",
      "15   BBKMLEIX    0.050303\n",
      "1       DGS10    0.043257\n",
      "9     UMCSENT    0.043007\n",
      "5      ACOGNO    0.039642\n",
      "2       T10_3    0.037801\n",
      "14       Infl    0.035915\n",
      "11     LiqChg    0.033626\n",
      "17     ma20gr    0.029810\n",
      "6    NEWORDER    0.028415\n",
      "12      M2Chg    0.026705\n",
      "4       ICNSA    0.024157\n",
      "0         DFF    0.023168\n",
      "8      PERMIT    0.022031\n",
      "18        vix    0.019814\n",
      "10  BusInvChg    0.018686\n",
      "13    PSAVERT    0.017341\n",
      "26       pr_7    0.016917\n",
      "29      pr_10    0.014060\n",
      "16      vol_n    0.012044\n",
      "24       pr_5    0.012002\n",
      "28       pr_9    0.009213\n",
      "25       pr_6    0.008490\n",
      "27       pr_8    0.006464\n",
      "7      AWHMAN    0.006171\n",
      "21       pr_2    0.005973\n",
      "3      UNRATE    0.005462\n",
      "23       pr_4    0.004666\n",
      "22       pr_3    0.004194\n",
      "20       pr_1    0.001172\n"
     ]
    }
   ],
   "source": [
    "feature_importances = clf0.feature_importances_\n",
    "# Create a DataFrame for better visualization\n",
    "features = X.columns\n",
    "importances = pd.DataFrame({'Feature': features, 'Importance': feature_importances})\n",
    "importances = importances.sort_values(by='Importance', ascending=False)\n",
    "# Print feature importances\n",
    "print(importances)"
   ]
  },
  {
   "cell_type": "code",
   "execution_count": 20,
   "id": "2eb4989c",
   "metadata": {},
   "outputs": [],
   "source": [
    "ds['Prediction'] = predict"
   ]
  },
  {
   "cell_type": "code",
   "execution_count": 21,
   "id": "90593bb2",
   "metadata": {},
   "outputs": [],
   "source": [
    "pd.DataFrame(ds).to_excel('result_dt.xlsx')"
   ]
  },
  {
   "cell_type": "code",
   "execution_count": 22,
   "id": "f252a277",
   "metadata": {},
   "outputs": [
    {
     "data": {
      "text/html": [
       "<div>\n",
       "<style scoped>\n",
       "    .dataframe tbody tr th:only-of-type {\n",
       "        vertical-align: middle;\n",
       "    }\n",
       "\n",
       "    .dataframe tbody tr th {\n",
       "        vertical-align: top;\n",
       "    }\n",
       "\n",
       "    .dataframe thead th {\n",
       "        text-align: right;\n",
       "    }\n",
       "</style>\n",
       "<table border=\"1\" class=\"dataframe\">\n",
       "  <thead>\n",
       "    <tr style=\"text-align: right;\">\n",
       "      <th></th>\n",
       "      <th>DFF</th>\n",
       "      <th>DGS10</th>\n",
       "      <th>T10_3</th>\n",
       "      <th>UNRATE</th>\n",
       "      <th>ICNSA</th>\n",
       "      <th>ACOGNO</th>\n",
       "      <th>NEWORDER</th>\n",
       "      <th>AWHMAN</th>\n",
       "      <th>PERMIT</th>\n",
       "      <th>UMCSENT</th>\n",
       "      <th>...</th>\n",
       "      <th>pr_4</th>\n",
       "      <th>pr_5</th>\n",
       "      <th>pr_6</th>\n",
       "      <th>pr_7</th>\n",
       "      <th>pr_8</th>\n",
       "      <th>pr_9</th>\n",
       "      <th>pr_10</th>\n",
       "      <th>ma20gr_fut</th>\n",
       "      <th>dir_fut</th>\n",
       "      <th>Prediction</th>\n",
       "    </tr>\n",
       "  </thead>\n",
       "  <tbody>\n",
       "    <tr>\n",
       "      <th>count</th>\n",
       "      <td>8162.000000</td>\n",
       "      <td>8162.000000</td>\n",
       "      <td>8162.000000</td>\n",
       "      <td>8162.000000</td>\n",
       "      <td>8.162000e+03</td>\n",
       "      <td>8162.000000</td>\n",
       "      <td>8162.000000</td>\n",
       "      <td>8162.000000</td>\n",
       "      <td>8162.000000</td>\n",
       "      <td>8162.000000</td>\n",
       "      <td>...</td>\n",
       "      <td>8162.000000</td>\n",
       "      <td>8162.000000</td>\n",
       "      <td>8162.000000</td>\n",
       "      <td>8162.000000</td>\n",
       "      <td>8162.000000</td>\n",
       "      <td>8162.000000</td>\n",
       "      <td>8162.000000</td>\n",
       "      <td>8162.000000</td>\n",
       "      <td>8162.000000</td>\n",
       "      <td>8162.000000</td>\n",
       "    </tr>\n",
       "    <tr>\n",
       "      <th>mean</th>\n",
       "      <td>2.563370</td>\n",
       "      <td>4.002111</td>\n",
       "      <td>1.593827</td>\n",
       "      <td>5.703136</td>\n",
       "      <td>3.678667e+05</td>\n",
       "      <td>765.409665</td>\n",
       "      <td>286.719716</td>\n",
       "      <td>1.202291</td>\n",
       "      <td>1372.559177</td>\n",
       "      <td>85.836817</td>\n",
       "      <td>...</td>\n",
       "      <td>0.001724</td>\n",
       "      <td>0.001383</td>\n",
       "      <td>0.001048</td>\n",
       "      <td>0.000718</td>\n",
       "      <td>0.000393</td>\n",
       "      <td>0.000071</td>\n",
       "      <td>-0.000245</td>\n",
       "      <td>0.006995</td>\n",
       "      <td>0.284734</td>\n",
       "      <td>0.311688</td>\n",
       "    </tr>\n",
       "    <tr>\n",
       "      <th>std</th>\n",
       "      <td>2.191967</td>\n",
       "      <td>1.765468</td>\n",
       "      <td>1.232822</td>\n",
       "      <td>1.790656</td>\n",
       "      <td>3.145733e+05</td>\n",
       "      <td>76.471799</td>\n",
       "      <td>38.407867</td>\n",
       "      <td>0.606064</td>\n",
       "      <td>402.368214</td>\n",
       "      <td>13.395546</td>\n",
       "      <td>...</td>\n",
       "      <td>0.018204</td>\n",
       "      <td>0.016858</td>\n",
       "      <td>0.015700</td>\n",
       "      <td>0.014766</td>\n",
       "      <td>0.014115</td>\n",
       "      <td>0.013763</td>\n",
       "      <td>0.013756</td>\n",
       "      <td>0.035025</td>\n",
       "      <td>0.958665</td>\n",
       "      <td>0.950243</td>\n",
       "    </tr>\n",
       "    <tr>\n",
       "      <th>min</th>\n",
       "      <td>0.040000</td>\n",
       "      <td>0.520000</td>\n",
       "      <td>-1.730000</td>\n",
       "      <td>3.400000</td>\n",
       "      <td>1.521440e+05</td>\n",
       "      <td>548.601079</td>\n",
       "      <td>214.632642</td>\n",
       "      <td>-1.500000</td>\n",
       "      <td>513.000000</td>\n",
       "      <td>50.000000</td>\n",
       "      <td>...</td>\n",
       "      <td>-0.167844</td>\n",
       "      <td>-0.157828</td>\n",
       "      <td>-0.146553</td>\n",
       "      <td>-0.138912</td>\n",
       "      <td>-0.132208</td>\n",
       "      <td>-0.126792</td>\n",
       "      <td>-0.125330</td>\n",
       "      <td>-0.212308</td>\n",
       "      <td>-1.000000</td>\n",
       "      <td>-1.000000</td>\n",
       "    </tr>\n",
       "    <tr>\n",
       "      <th>25%</th>\n",
       "      <td>0.180000</td>\n",
       "      <td>2.470000</td>\n",
       "      <td>0.690000</td>\n",
       "      <td>4.400000</td>\n",
       "      <td>2.602420e+05</td>\n",
       "      <td>701.555834</td>\n",
       "      <td>257.002921</td>\n",
       "      <td>0.800000</td>\n",
       "      <td>1118.000000</td>\n",
       "      <td>76.100000</td>\n",
       "      <td>...</td>\n",
       "      <td>-0.006666</td>\n",
       "      <td>-0.006285</td>\n",
       "      <td>-0.006133</td>\n",
       "      <td>-0.006052</td>\n",
       "      <td>-0.006082</td>\n",
       "      <td>-0.006331</td>\n",
       "      <td>-0.006715</td>\n",
       "      <td>-0.009839</td>\n",
       "      <td>-1.000000</td>\n",
       "      <td>-1.000000</td>\n",
       "    </tr>\n",
       "    <tr>\n",
       "      <th>50%</th>\n",
       "      <td>2.030000</td>\n",
       "      <td>4.000000</td>\n",
       "      <td>1.600000</td>\n",
       "      <td>5.400000</td>\n",
       "      <td>3.175730e+05</td>\n",
       "      <td>759.090011</td>\n",
       "      <td>280.045045</td>\n",
       "      <td>1.300000</td>\n",
       "      <td>1399.000000</td>\n",
       "      <td>88.800000</td>\n",
       "      <td>...</td>\n",
       "      <td>0.004049</td>\n",
       "      <td>0.003469</td>\n",
       "      <td>0.002947</td>\n",
       "      <td>0.002374</td>\n",
       "      <td>0.001803</td>\n",
       "      <td>0.001297</td>\n",
       "      <td>0.000674</td>\n",
       "      <td>0.011657</td>\n",
       "      <td>1.000000</td>\n",
       "      <td>1.000000</td>\n",
       "    </tr>\n",
       "    <tr>\n",
       "      <th>75%</th>\n",
       "      <td>4.990000</td>\n",
       "      <td>5.410000</td>\n",
       "      <td>2.610000</td>\n",
       "      <td>6.600000</td>\n",
       "      <td>3.922130e+05</td>\n",
       "      <td>818.970217</td>\n",
       "      <td>311.565646</td>\n",
       "      <td>1.700000</td>\n",
       "      <td>1651.000000</td>\n",
       "      <td>95.600000</td>\n",
       "      <td>...</td>\n",
       "      <td>0.012288</td>\n",
       "      <td>0.011138</td>\n",
       "      <td>0.010163</td>\n",
       "      <td>0.009122</td>\n",
       "      <td>0.008278</td>\n",
       "      <td>0.007470</td>\n",
       "      <td>0.006878</td>\n",
       "      <td>0.027977</td>\n",
       "      <td>1.000000</td>\n",
       "      <td>1.000000</td>\n",
       "    </tr>\n",
       "    <tr>\n",
       "      <th>max</th>\n",
       "      <td>7.800000</td>\n",
       "      <td>8.050000</td>\n",
       "      <td>3.940000</td>\n",
       "      <td>14.800000</td>\n",
       "      <td>6.161268e+06</td>\n",
       "      <td>933.092066</td>\n",
       "      <td>396.585366</td>\n",
       "      <td>2.300000</td>\n",
       "      <td>2263.000000</td>\n",
       "      <td>112.000000</td>\n",
       "      <td>...</td>\n",
       "      <td>0.092029</td>\n",
       "      <td>0.085783</td>\n",
       "      <td>0.082464</td>\n",
       "      <td>0.084515</td>\n",
       "      <td>0.088462</td>\n",
       "      <td>0.096451</td>\n",
       "      <td>0.102215</td>\n",
       "      <td>0.127029</td>\n",
       "      <td>1.000000</td>\n",
       "      <td>1.000000</td>\n",
       "    </tr>\n",
       "  </tbody>\n",
       "</table>\n",
       "<p>8 rows × 33 columns</p>\n",
       "</div>"
      ],
      "text/plain": [
       "               DFF        DGS10        T10_3       UNRATE         ICNSA  \\\n",
       "count  8162.000000  8162.000000  8162.000000  8162.000000  8.162000e+03   \n",
       "mean      2.563370     4.002111     1.593827     5.703136  3.678667e+05   \n",
       "std       2.191967     1.765468     1.232822     1.790656  3.145733e+05   \n",
       "min       0.040000     0.520000    -1.730000     3.400000  1.521440e+05   \n",
       "25%       0.180000     2.470000     0.690000     4.400000  2.602420e+05   \n",
       "50%       2.030000     4.000000     1.600000     5.400000  3.175730e+05   \n",
       "75%       4.990000     5.410000     2.610000     6.600000  3.922130e+05   \n",
       "max       7.800000     8.050000     3.940000    14.800000  6.161268e+06   \n",
       "\n",
       "            ACOGNO     NEWORDER       AWHMAN       PERMIT      UMCSENT  ...  \\\n",
       "count  8162.000000  8162.000000  8162.000000  8162.000000  8162.000000  ...   \n",
       "mean    765.409665   286.719716     1.202291  1372.559177    85.836817  ...   \n",
       "std      76.471799    38.407867     0.606064   402.368214    13.395546  ...   \n",
       "min     548.601079   214.632642    -1.500000   513.000000    50.000000  ...   \n",
       "25%     701.555834   257.002921     0.800000  1118.000000    76.100000  ...   \n",
       "50%     759.090011   280.045045     1.300000  1399.000000    88.800000  ...   \n",
       "75%     818.970217   311.565646     1.700000  1651.000000    95.600000  ...   \n",
       "max     933.092066   396.585366     2.300000  2263.000000   112.000000  ...   \n",
       "\n",
       "              pr_4         pr_5         pr_6         pr_7         pr_8  \\\n",
       "count  8162.000000  8162.000000  8162.000000  8162.000000  8162.000000   \n",
       "mean      0.001724     0.001383     0.001048     0.000718     0.000393   \n",
       "std       0.018204     0.016858     0.015700     0.014766     0.014115   \n",
       "min      -0.167844    -0.157828    -0.146553    -0.138912    -0.132208   \n",
       "25%      -0.006666    -0.006285    -0.006133    -0.006052    -0.006082   \n",
       "50%       0.004049     0.003469     0.002947     0.002374     0.001803   \n",
       "75%       0.012288     0.011138     0.010163     0.009122     0.008278   \n",
       "max       0.092029     0.085783     0.082464     0.084515     0.088462   \n",
       "\n",
       "              pr_9        pr_10   ma20gr_fut      dir_fut   Prediction  \n",
       "count  8162.000000  8162.000000  8162.000000  8162.000000  8162.000000  \n",
       "mean      0.000071    -0.000245     0.006995     0.284734     0.311688  \n",
       "std       0.013763     0.013756     0.035025     0.958665     0.950243  \n",
       "min      -0.126792    -0.125330    -0.212308    -1.000000    -1.000000  \n",
       "25%      -0.006331    -0.006715    -0.009839    -1.000000    -1.000000  \n",
       "50%       0.001297     0.000674     0.011657     1.000000     1.000000  \n",
       "75%       0.007470     0.006878     0.027977     1.000000     1.000000  \n",
       "max       0.096451     0.102215     0.127029     1.000000     1.000000  \n",
       "\n",
       "[8 rows x 33 columns]"
      ]
     },
     "execution_count": 22,
     "metadata": {},
     "output_type": "execute_result"
    }
   ],
   "source": [
    "ds.describe()"
   ]
  },
  {
   "cell_type": "code",
   "execution_count": null,
   "id": "2e4ddf5a",
   "metadata": {},
   "outputs": [],
   "source": []
  }
 ],
 "metadata": {
  "kernelspec": {
   "display_name": "Python 3 (ipykernel)",
   "language": "python",
   "name": "python3"
  },
  "language_info": {
   "codemirror_mode": {
    "name": "ipython",
    "version": 3
   },
   "file_extension": ".py",
   "mimetype": "text/x-python",
   "name": "python",
   "nbconvert_exporter": "python",
   "pygments_lexer": "ipython3",
   "version": "3.8.19"
  }
 },
 "nbformat": 4,
 "nbformat_minor": 5
}
