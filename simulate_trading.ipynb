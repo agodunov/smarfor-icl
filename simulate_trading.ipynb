{
 "cells": [
  {
   "cell_type": "code",
   "execution_count": 1,
   "id": "14f86b0a",
   "metadata": {},
   "outputs": [],
   "source": [
    "import numpy as np\n",
    "import pandas as pd\n",
    "from matplotlib import pyplot as plt\n",
    "from sklearn import tree\n",
    "from sklearn.model_selection import train_test_split\n",
    "from sklearn import tree\n",
    "from sklearn.metrics import confusion_matrix, accuracy_score"
   ]
  },
  {
   "cell_type": "code",
   "execution_count": 2,
   "id": "00c47a36",
   "metadata": {},
   "outputs": [],
   "source": [
    "import yfinance as yf\n",
    "from fredapi import Fred\n",
    "from datetime import date"
   ]
  },
  {
   "cell_type": "code",
   "execution_count": 3,
   "id": "e8fba58f",
   "metadata": {},
   "outputs": [],
   "source": [
    "today = pd.Timestamp(date.today())"
   ]
  },
  {
   "cell_type": "code",
   "execution_count": 4,
   "id": "656a987f",
   "metadata": {},
   "outputs": [],
   "source": [
    "df = pd.read_excel('sp500.xlsx', parse_dates=[0], index_col=0)"
   ]
  },
  {
   "cell_type": "code",
   "execution_count": 5,
   "id": "ff02d841",
   "metadata": {},
   "outputs": [
    {
     "data": {
      "text/html": [
       "<div>\n",
       "<style scoped>\n",
       "    .dataframe tbody tr th:only-of-type {\n",
       "        vertical-align: middle;\n",
       "    }\n",
       "\n",
       "    .dataframe tbody tr th {\n",
       "        vertical-align: top;\n",
       "    }\n",
       "\n",
       "    .dataframe thead th {\n",
       "        text-align: right;\n",
       "    }\n",
       "</style>\n",
       "<table border=\"1\" class=\"dataframe\">\n",
       "  <thead>\n",
       "    <tr style=\"text-align: right;\">\n",
       "      <th></th>\n",
       "      <th>Open</th>\n",
       "      <th>Close</th>\n",
       "      <th>Prediction</th>\n",
       "    </tr>\n",
       "    <tr>\n",
       "      <th>Date</th>\n",
       "      <th></th>\n",
       "      <th></th>\n",
       "      <th></th>\n",
       "    </tr>\n",
       "  </thead>\n",
       "  <tbody>\n",
       "    <tr>\n",
       "      <th>1992-02-03</th>\n",
       "      <td>408.790009</td>\n",
       "      <td>409.529999</td>\n",
       "      <td>-0.006658</td>\n",
       "    </tr>\n",
       "    <tr>\n",
       "      <th>1992-02-04</th>\n",
       "      <td>409.600006</td>\n",
       "      <td>413.850006</td>\n",
       "      <td>-0.005357</td>\n",
       "    </tr>\n",
       "    <tr>\n",
       "      <th>1992-02-05</th>\n",
       "      <td>413.880005</td>\n",
       "      <td>413.839996</td>\n",
       "      <td>-0.006448</td>\n",
       "    </tr>\n",
       "    <tr>\n",
       "      <th>1992-02-06</th>\n",
       "      <td>413.869995</td>\n",
       "      <td>413.820007</td>\n",
       "      <td>-0.006538</td>\n",
       "    </tr>\n",
       "    <tr>\n",
       "      <th>1992-02-07</th>\n",
       "      <td>413.820007</td>\n",
       "      <td>411.089996</td>\n",
       "      <td>-0.008424</td>\n",
       "    </tr>\n",
       "    <tr>\n",
       "      <th>...</th>\n",
       "      <td>...</td>\n",
       "      <td>...</td>\n",
       "      <td>...</td>\n",
       "    </tr>\n",
       "    <tr>\n",
       "      <th>2024-06-25</th>\n",
       "      <td>5460.729980</td>\n",
       "      <td>5469.299805</td>\n",
       "      <td>0.033399</td>\n",
       "    </tr>\n",
       "    <tr>\n",
       "      <th>2024-06-26</th>\n",
       "      <td>5460.709961</td>\n",
       "      <td>5477.899902</td>\n",
       "      <td>0.032249</td>\n",
       "    </tr>\n",
       "    <tr>\n",
       "      <th>2024-06-27</th>\n",
       "      <td>5473.589844</td>\n",
       "      <td>5482.870117</td>\n",
       "      <td>0.032131</td>\n",
       "    </tr>\n",
       "    <tr>\n",
       "      <th>2024-06-28</th>\n",
       "      <td>5488.479980</td>\n",
       "      <td>5460.479980</td>\n",
       "      <td>0.032023</td>\n",
       "    </tr>\n",
       "    <tr>\n",
       "      <th>2024-07-01</th>\n",
       "      <td>5471.080078</td>\n",
       "      <td>5475.089844</td>\n",
       "      <td>0.025966</td>\n",
       "    </tr>\n",
       "  </tbody>\n",
       "</table>\n",
       "<p>8162 rows × 3 columns</p>\n",
       "</div>"
      ],
      "text/plain": [
       "                   Open        Close  Prediction\n",
       "Date                                            \n",
       "1992-02-03   408.790009   409.529999   -0.006658\n",
       "1992-02-04   409.600006   413.850006   -0.005357\n",
       "1992-02-05   413.880005   413.839996   -0.006448\n",
       "1992-02-06   413.869995   413.820007   -0.006538\n",
       "1992-02-07   413.820007   411.089996   -0.008424\n",
       "...                 ...          ...         ...\n",
       "2024-06-25  5460.729980  5469.299805    0.033399\n",
       "2024-06-26  5460.709961  5477.899902    0.032249\n",
       "2024-06-27  5473.589844  5482.870117    0.032131\n",
       "2024-06-28  5488.479980  5460.479980    0.032023\n",
       "2024-07-01  5471.080078  5475.089844    0.025966\n",
       "\n",
       "[8162 rows x 3 columns]"
      ]
     },
     "execution_count": 5,
     "metadata": {},
     "output_type": "execute_result"
    }
   ],
   "source": [
    "df"
   ]
  },
  {
   "cell_type": "code",
   "execution_count": 6,
   "id": "f8794677",
   "metadata": {},
   "outputs": [],
   "source": [
    "# Create a column for daily returns\n",
    "# Initialize variables to track the position\n",
    "holding = 0  # Can be positive number of shares -'long' or negative number of shares - 'short'\n",
    "entry_price = df['Open'][0]\n",
    "slippage = 0.01\n",
    "risk = 0.95   # the part of assets under the risk\n",
    "cash = 1000\n",
    "df['Holding'] = 0\n",
    "df['Cash'] = cash\n",
    "df['Assets'] = cash\n",
    "df['Action'] = None"
   ]
  },
  {
   "cell_type": "code",
   "execution_count": 7,
   "id": "38357050",
   "metadata": {},
   "outputs": [],
   "source": [
    "for i in range(len(df) - 1):\n",
    "    action = []\n",
    "    if df.iloc[i]['Prediction'] >= 0.0 and holding <= 0.0: \n",
    "        # We have to exit the short position and then buy long\n",
    "#        print('short->long on the day', df.index[i])\n",
    "        exit_price = df.iloc[i + 1]['Open'] * (1 + slippage)\n",
    "        cash += exit_price * holding\n",
    "        action = f'Buy {holding:.4f} at {exit_price:.4f}'\n",
    "        holding = 0\n",
    "            \n",
    "        if cash < 0:\n",
    "            print(\"You are bankrot on the day \", df.index[i] )\n",
    "            break;\n",
    "                \n",
    "        # Buy long\n",
    "        entry_price = df.iloc[i + 1]['Open'] * (1 + slippage)\n",
    "        holding = risk * cash / entry_price\n",
    "        cash -= risk * cash\n",
    "        action += f' and {-holding:.4f} at {exit_price:.4f}'\n",
    "        \n",
    "        df.at[df.index[i + 1], 'Action'] = action\n",
    "        \n",
    "    elif df.iloc[i]['Prediction'] < 0.0 and holding >= 0.0:               \n",
    "        # We have to sell the long position and then sell short\n",
    "#        print('long->short on the day', df.index[i], 'holding', holding)\n",
    "        \n",
    "        exit_price = df.iloc[i + 1]['Open'] * (1 - slippage)\n",
    "        cash += exit_price * holding\n",
    "        action = f'Sell {holding:.4f} at {exit_price:.4f}'\n",
    "        holding = 0\n",
    "        \n",
    "        # Sell short\n",
    "        if cash < 0:\n",
    "            print(\"You are bankrot on the day \", df.index[i] )\n",
    "            break;\n",
    "                \n",
    "        # Enter short position\n",
    "        entry_price = df.iloc[i + 1]['Open'] * (1 - slippage)\n",
    "        holding = - risk * cash / entry_price\n",
    "        cash += risk * cash\n",
    "        action += f' and {holding:.4f} at {entry_price:.4f}'\n",
    "\n",
    "        df.at[df.index[i + 1], 'Action'] = action\n",
    "\n",
    "#    print('exit_price', exit_price, 'cash=', cash, 'entry_price', entry_price, 'holding',holding)\n",
    "\n",
    "    df.at[df.index[i + 1], 'Holding'] = holding\n",
    "    df.at[df.index[i + 1], 'Cash'] = cash\n",
    "    df.at[df.index[i + 1], 'Assets'] = cash + holding * df.iloc[i]['Close']\n",
    "    \n",
    "                \n",
    "# Save the DataFrame with the calculated returns to a CSV file\n",
    "#df.to_csv('/mnt/data/trading_strategy_evaluation.csv')\n"
   ]
  },
  {
   "cell_type": "code",
   "execution_count": 8,
   "id": "560f6930",
   "metadata": {},
   "outputs": [],
   "source": [
    "df.to_excel('trades.xlsx')"
   ]
  },
  {
   "cell_type": "code",
   "execution_count": 9,
   "id": "d063a49c",
   "metadata": {},
   "outputs": [],
   "source": [
    "roi = np.exp((np.log(df['Assets'][-1] / df['Assets'][0])) / ((df.index[-1] - df.index[0]).days/365) )"
   ]
  },
  {
   "cell_type": "code",
   "execution_count": 10,
   "id": "b6e86887",
   "metadata": {},
   "outputs": [
    {
     "data": {
      "text/plain": [
       "1.2823767842977938"
      ]
     },
     "execution_count": 10,
     "metadata": {},
     "output_type": "execute_result"
    }
   ],
   "source": [
    "roi"
   ]
  },
  {
   "cell_type": "markdown",
   "id": "017fd10f",
   "metadata": {},
   "source": [
    "# The average return from simulated trades is 28% per year"
   ]
  },
  {
   "cell_type": "code",
   "execution_count": null,
   "id": "34922dae",
   "metadata": {},
   "outputs": [],
   "source": []
  }
 ],
 "metadata": {
  "kernelspec": {
   "display_name": "Python 3 (ipykernel)",
   "language": "python",
   "name": "python3"
  },
  "language_info": {
   "codemirror_mode": {
    "name": "ipython",
    "version": 3
   },
   "file_extension": ".py",
   "mimetype": "text/x-python",
   "name": "python",
   "nbconvert_exporter": "python",
   "pygments_lexer": "ipython3",
   "version": "3.8.19"
  }
 },
 "nbformat": 4,
 "nbformat_minor": 5
}
