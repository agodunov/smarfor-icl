{
 "cells": [
  {
   "cell_type": "code",
   "execution_count": 37,
   "id": "aedfaac7",
   "metadata": {},
   "outputs": [],
   "source": [
    "import numpy as np\n",
    "import pandas as pd\n",
    "from matplotlib import pyplot as plt\n",
    "from sklearn import tree\n",
    "from sklearn.model_selection import train_test_split\n",
    "\n",
    "from sklearn.preprocessing import StandardScaler\n",
    "from sklearn.linear_model import LogisticRegression\n",
    "from sklearn.metrics import confusion_matrix, accuracy_score"
   ]
  },
  {
   "cell_type": "code",
   "execution_count": 38,
   "id": "fd252518",
   "metadata": {},
   "outputs": [],
   "source": [
    "import statsmodels.api as sm\n",
    "from statsmodels.stats.outliers_influence import variance_inflation_factor"
   ]
  },
  {
   "cell_type": "code",
   "execution_count": 39,
   "id": "72f13502",
   "metadata": {},
   "outputs": [],
   "source": [
    "# If you need to recreate the datase, uncomment the next line%\n",
    "#%run create_dataset.ipynb"
   ]
  },
  {
   "cell_type": "code",
   "execution_count": 40,
   "id": "4dd5d5e2",
   "metadata": {},
   "outputs": [],
   "source": [
    "ds = pd.read_excel('dataset.xlsx', parse_dates=[0], index_col=0)"
   ]
  },
  {
   "cell_type": "code",
   "execution_count": 41,
   "id": "a985e990",
   "metadata": {},
   "outputs": [],
   "source": [
    "# Scale the data\n",
    "c2s = ['UNRATE','ICNSA','ACOGNO','NEWORDER','PERMIT','UMCSENT','PSAVERT','vix']\n",
    "scaler = StandardScaler()\n",
    "ds[c2s] = scaler.fit_transform(ds[c2s])"
   ]
  },
  {
   "cell_type": "code",
   "execution_count": 42,
   "id": "5f8eeaf0",
   "metadata": {},
   "outputs": [],
   "source": [
    "# The last two columns in data set are the real future data to be predicted\n",
    "X = ds.iloc[:,:-2]"
   ]
  },
  {
   "cell_type": "code",
   "execution_count": 43,
   "id": "5deeae5a",
   "metadata": {},
   "outputs": [],
   "source": [
    "# The last column is a category up +1 or down -1\n",
    "y = ds.iloc[:,-1]"
   ]
  },
  {
   "cell_type": "code",
   "execution_count": 44,
   "id": "742bce09",
   "metadata": {},
   "outputs": [],
   "source": [
    "# Split the data into training and testing sets\n",
    "X_train, X_test, y_train, y_test = train_test_split(X, y, test_size=0.3)"
   ]
  },
  {
   "cell_type": "code",
   "execution_count": 45,
   "id": "c11c0acc",
   "metadata": {},
   "outputs": [
    {
     "data": {
      "text/html": [
       "<style>#sk-container-id-6 {color: black;}#sk-container-id-6 pre{padding: 0;}#sk-container-id-6 div.sk-toggleable {background-color: white;}#sk-container-id-6 label.sk-toggleable__label {cursor: pointer;display: block;width: 100%;margin-bottom: 0;padding: 0.3em;box-sizing: border-box;text-align: center;}#sk-container-id-6 label.sk-toggleable__label-arrow:before {content: \"▸\";float: left;margin-right: 0.25em;color: #696969;}#sk-container-id-6 label.sk-toggleable__label-arrow:hover:before {color: black;}#sk-container-id-6 div.sk-estimator:hover label.sk-toggleable__label-arrow:before {color: black;}#sk-container-id-6 div.sk-toggleable__content {max-height: 0;max-width: 0;overflow: hidden;text-align: left;background-color: #f0f8ff;}#sk-container-id-6 div.sk-toggleable__content pre {margin: 0.2em;color: black;border-radius: 0.25em;background-color: #f0f8ff;}#sk-container-id-6 input.sk-toggleable__control:checked~div.sk-toggleable__content {max-height: 200px;max-width: 100%;overflow: auto;}#sk-container-id-6 input.sk-toggleable__control:checked~label.sk-toggleable__label-arrow:before {content: \"▾\";}#sk-container-id-6 div.sk-estimator input.sk-toggleable__control:checked~label.sk-toggleable__label {background-color: #d4ebff;}#sk-container-id-6 div.sk-label input.sk-toggleable__control:checked~label.sk-toggleable__label {background-color: #d4ebff;}#sk-container-id-6 input.sk-hidden--visually {border: 0;clip: rect(1px 1px 1px 1px);clip: rect(1px, 1px, 1px, 1px);height: 1px;margin: -1px;overflow: hidden;padding: 0;position: absolute;width: 1px;}#sk-container-id-6 div.sk-estimator {font-family: monospace;background-color: #f0f8ff;border: 1px dotted black;border-radius: 0.25em;box-sizing: border-box;margin-bottom: 0.5em;}#sk-container-id-6 div.sk-estimator:hover {background-color: #d4ebff;}#sk-container-id-6 div.sk-parallel-item::after {content: \"\";width: 100%;border-bottom: 1px solid gray;flex-grow: 1;}#sk-container-id-6 div.sk-label:hover label.sk-toggleable__label {background-color: #d4ebff;}#sk-container-id-6 div.sk-serial::before {content: \"\";position: absolute;border-left: 1px solid gray;box-sizing: border-box;top: 0;bottom: 0;left: 50%;z-index: 0;}#sk-container-id-6 div.sk-serial {display: flex;flex-direction: column;align-items: center;background-color: white;padding-right: 0.2em;padding-left: 0.2em;position: relative;}#sk-container-id-6 div.sk-item {position: relative;z-index: 1;}#sk-container-id-6 div.sk-parallel {display: flex;align-items: stretch;justify-content: center;background-color: white;position: relative;}#sk-container-id-6 div.sk-item::before, #sk-container-id-6 div.sk-parallel-item::before {content: \"\";position: absolute;border-left: 1px solid gray;box-sizing: border-box;top: 0;bottom: 0;left: 50%;z-index: -1;}#sk-container-id-6 div.sk-parallel-item {display: flex;flex-direction: column;z-index: 1;position: relative;background-color: white;}#sk-container-id-6 div.sk-parallel-item:first-child::after {align-self: flex-end;width: 50%;}#sk-container-id-6 div.sk-parallel-item:last-child::after {align-self: flex-start;width: 50%;}#sk-container-id-6 div.sk-parallel-item:only-child::after {width: 0;}#sk-container-id-6 div.sk-dashed-wrapped {border: 1px dashed gray;margin: 0 0.4em 0.5em 0.4em;box-sizing: border-box;padding-bottom: 0.4em;background-color: white;}#sk-container-id-6 div.sk-label label {font-family: monospace;font-weight: bold;display: inline-block;line-height: 1.2em;}#sk-container-id-6 div.sk-label-container {text-align: center;}#sk-container-id-6 div.sk-container {/* jupyter's `normalize.less` sets `[hidden] { display: none; }` but bootstrap.min.css set `[hidden] { display: none !important; }` so we also need the `!important` here to be able to override the default hidden behavior on the sphinx rendered scikit-learn.org. See: https://github.com/scikit-learn/scikit-learn/issues/21755 */display: inline-block !important;position: relative;}#sk-container-id-6 div.sk-text-repr-fallback {display: none;}</style><div id=\"sk-container-id-6\" class=\"sk-top-container\"><div class=\"sk-text-repr-fallback\"><pre>LogisticRegression(max_iter=1000000, penalty=None)</pre><b>In a Jupyter environment, please rerun this cell to show the HTML representation or trust the notebook. <br />On GitHub, the HTML representation is unable to render, please try loading this page with nbviewer.org.</b></div><div class=\"sk-container\" hidden><div class=\"sk-item\"><div class=\"sk-estimator sk-toggleable\"><input class=\"sk-toggleable__control sk-hidden--visually\" id=\"sk-estimator-id-6\" type=\"checkbox\" checked><label for=\"sk-estimator-id-6\" class=\"sk-toggleable__label sk-toggleable__label-arrow\">LogisticRegression</label><div class=\"sk-toggleable__content\"><pre>LogisticRegression(max_iter=1000000, penalty=None)</pre></div></div></div></div></div>"
      ],
      "text/plain": [
       "LogisticRegression(max_iter=1000000, penalty=None)"
      ]
     },
     "execution_count": 45,
     "metadata": {},
     "output_type": "execute_result"
    }
   ],
   "source": [
    "# Get Liner Regression done\n",
    "clf = LogisticRegression(penalty = None, solver='lbfgs', max_iter=1000000)\n",
    "clf.fit(X_train, y_train)"
   ]
  },
  {
   "cell_type": "code",
   "execution_count": 46,
   "id": "93d0261d",
   "metadata": {},
   "outputs": [
    {
     "data": {
      "text/plain": [
       "0.7722737615963592"
      ]
     },
     "execution_count": 46,
     "metadata": {},
     "output_type": "execute_result"
    }
   ],
   "source": [
    "pred = clf.predict(X_train)\n",
    "accuracy_score(y_train, pred)"
   ]
  },
  {
   "cell_type": "code",
   "execution_count": 47,
   "id": "f2e639f8",
   "metadata": {},
   "outputs": [
    {
     "data": {
      "text/plain": [
       "0.768068599428338"
      ]
     },
     "execution_count": 47,
     "metadata": {},
     "output_type": "execute_result"
    }
   ],
   "source": [
    "pred = clf.predict(X_test)\n",
    "accuracy_score(y_test, pred)"
   ]
  },
  {
   "cell_type": "markdown",
   "id": "8764ffd0",
   "metadata": {},
   "source": [
    "# Try to improve generalization"
   ]
  },
  {
   "cell_type": "code",
   "execution_count": 64,
   "id": "09758030",
   "metadata": {
    "scrolled": false
   },
   "outputs": [
    {
     "data": {
      "text/plain": [
       "[<matplotlib.lines.Line2D at 0x2dd8378bc40>]"
      ]
     },
     "execution_count": 64,
     "metadata": {},
     "output_type": "execute_result"
    },
    {
     "data": {
      "image/png": "[encoded data removed]",
      "text/plain": [
       "<Figure size 640x480 with 1 Axes>"
      ]
     },
     "metadata": {},
     "output_type": "display_data"
    }
   ],
   "source": [
    "accuracy = []\n",
    "points = 100\n",
    "reg = np.linspace(1e-2, 1000, points)\n",
    "for i in range(points):\n",
    "    model = LogisticRegression(penalty='l2', C= reg[i], max_iter=1000000)\n",
    "    model.fit(X_train, y_train)\n",
    "    pred = model.predict(X_test)\n",
    "    accuracy.append(accuracy_score(y_test, pred))\n",
    "plt.plot(reg, accuracy)"
   ]
  },
  {
   "cell_type": "code",
   "execution_count": 65,
   "id": "3c9fc652",
   "metadata": {},
   "outputs": [
    {
     "name": "stdout",
     "output_type": "stream",
     "text": [
      "The max accuracy is 0.768068599428338 , with regularization constant C = 141.4227272727273\n"
     ]
    }
   ],
   "source": [
    "# Find the best regularization constant\n",
    "max_accuracy = max(accuracy)\n",
    "best_c = reg[accuracy.index(max_accuracy)]\n",
    "print(\"The max accuracy is\", max_accuracy, \", with regularization constant C =\", best_c)"
   ]
  },
  {
   "cell_type": "code",
   "execution_count": 68,
   "id": "9583cfc4",
   "metadata": {},
   "outputs": [
    {
     "data": {
      "text/plain": [
       "0.768068599428338"
      ]
     },
     "execution_count": 68,
     "metadata": {},
     "output_type": "execute_result"
    }
   ],
   "source": [
    "model = LogisticRegression(penalty='l2', C= best_c, max_iter=1000000)\n",
    "model.fit(X_train, y_train)\n",
    "pred = model.predict(X_test)\n",
    "accuracy_score(y_test, pred)"
   ]
  },
  {
   "cell_type": "code",
   "execution_count": 69,
   "id": "ecf885a5",
   "metadata": {},
   "outputs": [
    {
     "name": "stdout",
     "output_type": "stream",
     "text": [
      "[[ 483  408]\n",
      " [ 160 1398]]\n"
     ]
    }
   ],
   "source": [
    "print(confusion_matrix(y_test, pred))"
   ]
  },
  {
   "cell_type": "markdown",
   "id": "0a2447ed",
   "metadata": {},
   "source": [
    "# Train Liner Regresstion for the all data set"
   ]
  },
  {
   "cell_type": "code",
   "execution_count": 70,
   "id": "835312e1",
   "metadata": {},
   "outputs": [
    {
     "data": {
      "text/html": [
       "<style>#sk-container-id-7 {color: black;}#sk-container-id-7 pre{padding: 0;}#sk-container-id-7 div.sk-toggleable {background-color: white;}#sk-container-id-7 label.sk-toggleable__label {cursor: pointer;display: block;width: 100%;margin-bottom: 0;padding: 0.3em;box-sizing: border-box;text-align: center;}#sk-container-id-7 label.sk-toggleable__label-arrow:before {content: \"▸\";float: left;margin-right: 0.25em;color: #696969;}#sk-container-id-7 label.sk-toggleable__label-arrow:hover:before {color: black;}#sk-container-id-7 div.sk-estimator:hover label.sk-toggleable__label-arrow:before {color: black;}#sk-container-id-7 div.sk-toggleable__content {max-height: 0;max-width: 0;overflow: hidden;text-align: left;background-color: #f0f8ff;}#sk-container-id-7 div.sk-toggleable__content pre {margin: 0.2em;color: black;border-radius: 0.25em;background-color: #f0f8ff;}#sk-container-id-7 input.sk-toggleable__control:checked~div.sk-toggleable__content {max-height: 200px;max-width: 100%;overflow: auto;}#sk-container-id-7 input.sk-toggleable__control:checked~label.sk-toggleable__label-arrow:before {content: \"▾\";}#sk-container-id-7 div.sk-estimator input.sk-toggleable__control:checked~label.sk-toggleable__label {background-color: #d4ebff;}#sk-container-id-7 div.sk-label input.sk-toggleable__control:checked~label.sk-toggleable__label {background-color: #d4ebff;}#sk-container-id-7 input.sk-hidden--visually {border: 0;clip: rect(1px 1px 1px 1px);clip: rect(1px, 1px, 1px, 1px);height: 1px;margin: -1px;overflow: hidden;padding: 0;position: absolute;width: 1px;}#sk-container-id-7 div.sk-estimator {font-family: monospace;background-color: #f0f8ff;border: 1px dotted black;border-radius: 0.25em;box-sizing: border-box;margin-bottom: 0.5em;}#sk-container-id-7 div.sk-estimator:hover {background-color: #d4ebff;}#sk-container-id-7 div.sk-parallel-item::after {content: \"\";width: 100%;border-bottom: 1px solid gray;flex-grow: 1;}#sk-container-id-7 div.sk-label:hover label.sk-toggleable__label {background-color: #d4ebff;}#sk-container-id-7 div.sk-serial::before {content: \"\";position: absolute;border-left: 1px solid gray;box-sizing: border-box;top: 0;bottom: 0;left: 50%;z-index: 0;}#sk-container-id-7 div.sk-serial {display: flex;flex-direction: column;align-items: center;background-color: white;padding-right: 0.2em;padding-left: 0.2em;position: relative;}#sk-container-id-7 div.sk-item {position: relative;z-index: 1;}#sk-container-id-7 div.sk-parallel {display: flex;align-items: stretch;justify-content: center;background-color: white;position: relative;}#sk-container-id-7 div.sk-item::before, #sk-container-id-7 div.sk-parallel-item::before {content: \"\";position: absolute;border-left: 1px solid gray;box-sizing: border-box;top: 0;bottom: 0;left: 50%;z-index: -1;}#sk-container-id-7 div.sk-parallel-item {display: flex;flex-direction: column;z-index: 1;position: relative;background-color: white;}#sk-container-id-7 div.sk-parallel-item:first-child::after {align-self: flex-end;width: 50%;}#sk-container-id-7 div.sk-parallel-item:last-child::after {align-self: flex-start;width: 50%;}#sk-container-id-7 div.sk-parallel-item:only-child::after {width: 0;}#sk-container-id-7 div.sk-dashed-wrapped {border: 1px dashed gray;margin: 0 0.4em 0.5em 0.4em;box-sizing: border-box;padding-bottom: 0.4em;background-color: white;}#sk-container-id-7 div.sk-label label {font-family: monospace;font-weight: bold;display: inline-block;line-height: 1.2em;}#sk-container-id-7 div.sk-label-container {text-align: center;}#sk-container-id-7 div.sk-container {/* jupyter's `normalize.less` sets `[hidden] { display: none; }` but bootstrap.min.css set `[hidden] { display: none !important; }` so we also need the `!important` here to be able to override the default hidden behavior on the sphinx rendered scikit-learn.org. See: https://github.com/scikit-learn/scikit-learn/issues/21755 */display: inline-block !important;position: relative;}#sk-container-id-7 div.sk-text-repr-fallback {display: none;}</style><div id=\"sk-container-id-7\" class=\"sk-top-container\"><div class=\"sk-text-repr-fallback\"><pre>LogisticRegression(max_iter=1000000, penalty=None)</pre><b>In a Jupyter environment, please rerun this cell to show the HTML representation or trust the notebook. <br />On GitHub, the HTML representation is unable to render, please try loading this page with nbviewer.org.</b></div><div class=\"sk-container\" hidden><div class=\"sk-item\"><div class=\"sk-estimator sk-toggleable\"><input class=\"sk-toggleable__control sk-hidden--visually\" id=\"sk-estimator-id-7\" type=\"checkbox\" checked><label for=\"sk-estimator-id-7\" class=\"sk-toggleable__label sk-toggleable__label-arrow\">LogisticRegression</label><div class=\"sk-toggleable__content\"><pre>LogisticRegression(max_iter=1000000, penalty=None)</pre></div></div></div></div></div>"
      ],
      "text/plain": [
       "LogisticRegression(max_iter=1000000, penalty=None)"
      ]
     },
     "execution_count": 70,
     "metadata": {},
     "output_type": "execute_result"
    }
   ],
   "source": [
    "clf0 = LogisticRegression(penalty='l2', C= best_c)\n",
    "clf.fit(X, y)"
   ]
  },
  {
   "cell_type": "code",
   "execution_count": 71,
   "id": "c62853b1",
   "metadata": {},
   "outputs": [
    {
     "data": {
      "text/plain": [
       "0.774197500612595"
      ]
     },
     "execution_count": 71,
     "metadata": {},
     "output_type": "execute_result"
    }
   ],
   "source": [
    "predict = clf.predict(X)\n",
    "accuracy_score(y, predict)"
   ]
  },
  {
   "cell_type": "code",
   "execution_count": 72,
   "id": "e5d208fe",
   "metadata": {},
   "outputs": [
    {
     "name": "stdout",
     "output_type": "stream",
     "text": [
      "[[1644 1275]\n",
      " [ 568 4675]]\n"
     ]
    }
   ],
   "source": [
    "print(confusion_matrix(y, predict))"
   ]
  },
  {
   "cell_type": "code",
   "execution_count": 73,
   "id": "989998ab",
   "metadata": {},
   "outputs": [],
   "source": [
    "probability = np.max(clf.predict_proba(X), axis = 1)"
   ]
  },
  {
   "cell_type": "code",
   "execution_count": 74,
   "id": "2eb4989c",
   "metadata": {},
   "outputs": [],
   "source": [
    "ds['Prediction'] = predict\n",
    "ds['Probability'] = probability"
   ]
  },
  {
   "cell_type": "code",
   "execution_count": 75,
   "id": "90593bb2",
   "metadata": {},
   "outputs": [],
   "source": [
    "pd.DataFrame(ds).to_excel('result_dt.xlsx')"
   ]
  },
  {
   "cell_type": "code",
   "execution_count": 76,
   "id": "f252a277",
   "metadata": {},
   "outputs": [
    {
     "data": {
      "text/html": [
       "<div>\n",
       "<style scoped>\n",
       "    .dataframe tbody tr th:only-of-type {\n",
       "        vertical-align: middle;\n",
       "    }\n",
       "\n",
       "    .dataframe tbody tr th {\n",
       "        vertical-align: top;\n",
       "    }\n",
       "\n",
       "    .dataframe thead th {\n",
       "        text-align: right;\n",
       "    }\n",
       "</style>\n",
       "<table border=\"1\" class=\"dataframe\">\n",
       "  <thead>\n",
       "    <tr style=\"text-align: right;\">\n",
       "      <th></th>\n",
       "      <th>DFF</th>\n",
       "      <th>DGS10</th>\n",
       "      <th>T10_3</th>\n",
       "      <th>UNRATE</th>\n",
       "      <th>ICNSA</th>\n",
       "      <th>ACOGNO</th>\n",
       "      <th>NEWORDER</th>\n",
       "      <th>AWHMAN</th>\n",
       "      <th>PERMIT</th>\n",
       "      <th>UMCSENT</th>\n",
       "      <th>...</th>\n",
       "      <th>pr_5</th>\n",
       "      <th>pr_6</th>\n",
       "      <th>pr_7</th>\n",
       "      <th>pr_8</th>\n",
       "      <th>pr_9</th>\n",
       "      <th>pr_10</th>\n",
       "      <th>ma20gr_fut</th>\n",
       "      <th>dir_fut</th>\n",
       "      <th>Prediction</th>\n",
       "      <th>Probability</th>\n",
       "    </tr>\n",
       "  </thead>\n",
       "  <tbody>\n",
       "    <tr>\n",
       "      <th>count</th>\n",
       "      <td>8162.000000</td>\n",
       "      <td>8162.000000</td>\n",
       "      <td>8162.000000</td>\n",
       "      <td>8.162000e+03</td>\n",
       "      <td>8.162000e+03</td>\n",
       "      <td>8.162000e+03</td>\n",
       "      <td>8.162000e+03</td>\n",
       "      <td>8162.000000</td>\n",
       "      <td>8.162000e+03</td>\n",
       "      <td>8.162000e+03</td>\n",
       "      <td>...</td>\n",
       "      <td>8162.000000</td>\n",
       "      <td>8162.000000</td>\n",
       "      <td>8162.000000</td>\n",
       "      <td>8162.000000</td>\n",
       "      <td>8162.000000</td>\n",
       "      <td>8162.000000</td>\n",
       "      <td>8162.000000</td>\n",
       "      <td>8162.000000</td>\n",
       "      <td>8162.000000</td>\n",
       "      <td>8162.000000</td>\n",
       "    </tr>\n",
       "    <tr>\n",
       "      <th>mean</th>\n",
       "      <td>2.563370</td>\n",
       "      <td>4.002111</td>\n",
       "      <td>1.593827</td>\n",
       "      <td>5.571519e-17</td>\n",
       "      <td>2.089319e-17</td>\n",
       "      <td>9.471582e-16</td>\n",
       "      <td>3.342911e-16</td>\n",
       "      <td>1.202291</td>\n",
       "      <td>5.571519e-17</td>\n",
       "      <td>6.407246e-16</td>\n",
       "      <td>...</td>\n",
       "      <td>0.001383</td>\n",
       "      <td>0.001048</td>\n",
       "      <td>0.000718</td>\n",
       "      <td>0.000393</td>\n",
       "      <td>0.000071</td>\n",
       "      <td>-0.000245</td>\n",
       "      <td>0.006995</td>\n",
       "      <td>0.284734</td>\n",
       "      <td>0.457976</td>\n",
       "      <td>0.772430</td>\n",
       "    </tr>\n",
       "    <tr>\n",
       "      <th>std</th>\n",
       "      <td>2.191967</td>\n",
       "      <td>1.765468</td>\n",
       "      <td>1.232822</td>\n",
       "      <td>1.000061e+00</td>\n",
       "      <td>1.000061e+00</td>\n",
       "      <td>1.000061e+00</td>\n",
       "      <td>1.000061e+00</td>\n",
       "      <td>0.606064</td>\n",
       "      <td>1.000061e+00</td>\n",
       "      <td>1.000061e+00</td>\n",
       "      <td>...</td>\n",
       "      <td>0.016858</td>\n",
       "      <td>0.015700</td>\n",
       "      <td>0.014766</td>\n",
       "      <td>0.014115</td>\n",
       "      <td>0.013763</td>\n",
       "      <td>0.013756</td>\n",
       "      <td>0.035025</td>\n",
       "      <td>0.958665</td>\n",
       "      <td>0.889019</td>\n",
       "      <td>0.138149</td>\n",
       "    </tr>\n",
       "    <tr>\n",
       "      <th>min</th>\n",
       "      <td>0.040000</td>\n",
       "      <td>0.520000</td>\n",
       "      <td>-1.730000</td>\n",
       "      <td>-1.286276e+00</td>\n",
       "      <td>-6.858048e-01</td>\n",
       "      <td>-2.835318e+00</td>\n",
       "      <td>-1.876998e+00</td>\n",
       "      <td>-1.500000</td>\n",
       "      <td>-2.136381e+00</td>\n",
       "      <td>-2.675443e+00</td>\n",
       "      <td>...</td>\n",
       "      <td>-0.157828</td>\n",
       "      <td>-0.146553</td>\n",
       "      <td>-0.138912</td>\n",
       "      <td>-0.132208</td>\n",
       "      <td>-0.126792</td>\n",
       "      <td>-0.125330</td>\n",
       "      <td>-0.212308</td>\n",
       "      <td>-1.000000</td>\n",
       "      <td>-1.000000</td>\n",
       "      <td>0.500004</td>\n",
       "    </tr>\n",
       "    <tr>\n",
       "      <th>25%</th>\n",
       "      <td>0.180000</td>\n",
       "      <td>2.470000</td>\n",
       "      <td>0.690000</td>\n",
       "      <td>-7.277872e-01</td>\n",
       "      <td>-3.421500e-01</td>\n",
       "      <td>-8.350496e-01</td>\n",
       "      <td>-7.737638e-01</td>\n",
       "      <td>0.800000</td>\n",
       "      <td>-6.326911e-01</td>\n",
       "      <td>-7.269143e-01</td>\n",
       "      <td>...</td>\n",
       "      <td>-0.006285</td>\n",
       "      <td>-0.006133</td>\n",
       "      <td>-0.006052</td>\n",
       "      <td>-0.006082</td>\n",
       "      <td>-0.006331</td>\n",
       "      <td>-0.006715</td>\n",
       "      <td>-0.009839</td>\n",
       "      <td>-1.000000</td>\n",
       "      <td>-1.000000</td>\n",
       "      <td>0.659739</td>\n",
       "    </tr>\n",
       "    <tr>\n",
       "      <th>50%</th>\n",
       "      <td>2.030000</td>\n",
       "      <td>4.000000</td>\n",
       "      <td>1.600000</td>\n",
       "      <td>-1.692984e-01</td>\n",
       "      <td>-1.598888e-01</td>\n",
       "      <td>-8.264540e-02</td>\n",
       "      <td>-1.737946e-01</td>\n",
       "      <td>1.300000</td>\n",
       "      <td>6.571703e-02</td>\n",
       "      <td>2.212201e-01</td>\n",
       "      <td>...</td>\n",
       "      <td>0.003469</td>\n",
       "      <td>0.002947</td>\n",
       "      <td>0.002374</td>\n",
       "      <td>0.001803</td>\n",
       "      <td>0.001297</td>\n",
       "      <td>0.000674</td>\n",
       "      <td>0.011657</td>\n",
       "      <td>1.000000</td>\n",
       "      <td>1.000000</td>\n",
       "      <td>0.787825</td>\n",
       "    </tr>\n",
       "    <tr>\n",
       "      <th>75%</th>\n",
       "      <td>4.990000</td>\n",
       "      <td>5.410000</td>\n",
       "      <td>2.610000</td>\n",
       "      <td>5.008883e-01</td>\n",
       "      <td>7.739956e-02</td>\n",
       "      <td>7.004390e-01</td>\n",
       "      <td>6.469365e-01</td>\n",
       "      <td>1.700000</td>\n",
       "      <td>6.920474e-01</td>\n",
       "      <td>7.288827e-01</td>\n",
       "      <td>...</td>\n",
       "      <td>0.011138</td>\n",
       "      <td>0.010163</td>\n",
       "      <td>0.009122</td>\n",
       "      <td>0.008278</td>\n",
       "      <td>0.007470</td>\n",
       "      <td>0.006878</td>\n",
       "      <td>0.027977</td>\n",
       "      <td>1.000000</td>\n",
       "      <td>1.000000</td>\n",
       "      <td>0.884997</td>\n",
       "    </tr>\n",
       "    <tr>\n",
       "      <th>max</th>\n",
       "      <td>7.800000</td>\n",
       "      <td>8.050000</td>\n",
       "      <td>3.940000</td>\n",
       "      <td>5.080497e+00</td>\n",
       "      <td>1.841783e+01</td>\n",
       "      <td>2.192869e+00</td>\n",
       "      <td>2.860674e+00</td>\n",
       "      <td>2.300000</td>\n",
       "      <td>2.213135e+00</td>\n",
       "      <td>1.953245e+00</td>\n",
       "      <td>...</td>\n",
       "      <td>0.085783</td>\n",
       "      <td>0.082464</td>\n",
       "      <td>0.084515</td>\n",
       "      <td>0.088462</td>\n",
       "      <td>0.096451</td>\n",
       "      <td>0.102215</td>\n",
       "      <td>0.127029</td>\n",
       "      <td>1.000000</td>\n",
       "      <td>1.000000</td>\n",
       "      <td>1.000000</td>\n",
       "    </tr>\n",
       "  </tbody>\n",
       "</table>\n",
       "<p>8 rows × 34 columns</p>\n",
       "</div>"
      ],
      "text/plain": [
       "               DFF        DGS10        T10_3        UNRATE         ICNSA  \\\n",
       "count  8162.000000  8162.000000  8162.000000  8.162000e+03  8.162000e+03   \n",
       "mean      2.563370     4.002111     1.593827  5.571519e-17  2.089319e-17   \n",
       "std       2.191967     1.765468     1.232822  1.000061e+00  1.000061e+00   \n",
       "min       0.040000     0.520000    -1.730000 -1.286276e+00 -6.858048e-01   \n",
       "25%       0.180000     2.470000     0.690000 -7.277872e-01 -3.421500e-01   \n",
       "50%       2.030000     4.000000     1.600000 -1.692984e-01 -1.598888e-01   \n",
       "75%       4.990000     5.410000     2.610000  5.008883e-01  7.739956e-02   \n",
       "max       7.800000     8.050000     3.940000  5.080497e+00  1.841783e+01   \n",
       "\n",
       "             ACOGNO      NEWORDER       AWHMAN        PERMIT       UMCSENT  \\\n",
       "count  8.162000e+03  8.162000e+03  8162.000000  8.162000e+03  8.162000e+03   \n",
       "mean   9.471582e-16  3.342911e-16     1.202291  5.571519e-17  6.407246e-16   \n",
       "std    1.000061e+00  1.000061e+00     0.606064  1.000061e+00  1.000061e+00   \n",
       "min   -2.835318e+00 -1.876998e+00    -1.500000 -2.136381e+00 -2.675443e+00   \n",
       "25%   -8.350496e-01 -7.737638e-01     0.800000 -6.326911e-01 -7.269143e-01   \n",
       "50%   -8.264540e-02 -1.737946e-01     1.300000  6.571703e-02  2.212201e-01   \n",
       "75%    7.004390e-01  6.469365e-01     1.700000  6.920474e-01  7.288827e-01   \n",
       "max    2.192869e+00  2.860674e+00     2.300000  2.213135e+00  1.953245e+00   \n",
       "\n",
       "       ...         pr_5         pr_6         pr_7         pr_8         pr_9  \\\n",
       "count  ...  8162.000000  8162.000000  8162.000000  8162.000000  8162.000000   \n",
       "mean   ...     0.001383     0.001048     0.000718     0.000393     0.000071   \n",
       "std    ...     0.016858     0.015700     0.014766     0.014115     0.013763   \n",
       "min    ...    -0.157828    -0.146553    -0.138912    -0.132208    -0.126792   \n",
       "25%    ...    -0.006285    -0.006133    -0.006052    -0.006082    -0.006331   \n",
       "50%    ...     0.003469     0.002947     0.002374     0.001803     0.001297   \n",
       "75%    ...     0.011138     0.010163     0.009122     0.008278     0.007470   \n",
       "max    ...     0.085783     0.082464     0.084515     0.088462     0.096451   \n",
       "\n",
       "             pr_10   ma20gr_fut      dir_fut   Prediction  Probability  \n",
       "count  8162.000000  8162.000000  8162.000000  8162.000000  8162.000000  \n",
       "mean     -0.000245     0.006995     0.284734     0.457976     0.772430  \n",
       "std       0.013756     0.035025     0.958665     0.889019     0.138149  \n",
       "min      -0.125330    -0.212308    -1.000000    -1.000000     0.500004  \n",
       "25%      -0.006715    -0.009839    -1.000000    -1.000000     0.659739  \n",
       "50%       0.000674     0.011657     1.000000     1.000000     0.787825  \n",
       "75%       0.006878     0.027977     1.000000     1.000000     0.884997  \n",
       "max       0.102215     0.127029     1.000000     1.000000     1.000000  \n",
       "\n",
       "[8 rows x 34 columns]"
      ]
     },
     "execution_count": 76,
     "metadata": {},
     "output_type": "execute_result"
    }
   ],
   "source": [
    "ds.describe()"
   ]
  },
  {
   "cell_type": "code",
   "execution_count": null,
   "id": "4bf17e33",
   "metadata": {},
   "outputs": [],
   "source": []
  },
  {
   "cell_type": "code",
   "execution_count": null,
   "id": "144e6117",
   "metadata": {},
   "outputs": [],
   "source": []
  }
 ],
 "metadata": {
  "kernelspec": {
   "display_name": "Python 3 (ipykernel)",
   "language": "python",
   "name": "python3"
  },
  "language_info": {
   "codemirror_mode": {
    "name": "ipython",
    "version": 3
   },
   "file_extension": ".py",
   "mimetype": "text/x-python",
   "name": "python",
   "nbconvert_exporter": "python",
   "pygments_lexer": "ipython3",
   "version": "3.8.19"
  }
 },
 "nbformat": 4,
 "nbformat_minor": 5
}
